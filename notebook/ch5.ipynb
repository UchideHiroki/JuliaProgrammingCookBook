{
 "cells": [
  {
   "cell_type": "markdown",
   "metadata": {},
   "source": [
    "5章1節,2節を実行する"
   ]
  },
  {
   "cell_type": "markdown",
   "metadata": {},
   "source": [
    "# レシピ5.1 Juliaのサブタイプを理解する"
   ]
  },
  {
   "cell_type": "markdown",
   "metadata": {},
   "source": [
    "Juliaのサブタイプの機能と、サブタイプを適切に扱うためのメソッドシグネチャの書き方について説明する"
   ]
  },
  {
   "cell_type": "markdown",
   "metadata": {},
   "source": [
    "ガウス整数(実部と虚部が整数の複素数)にメタデータを追加した型を定義する。"
   ]
  },
  {
   "cell_type": "markdown",
   "metadata": {},
   "source": [
    "Point型を定義して、配列に格納する"
   ]
  },
  {
   "cell_type": "markdown",
   "metadata": {},
   "source": [
    "パラメータT, Sを持つPoint型を作る"
   ]
  },
  {
   "cell_type": "code",
   "execution_count": 1,
   "metadata": {},
   "outputs": [],
   "source": [
    "# T<:Integerは、Tの型がIntegerに含まれることを意味する\n",
    "struct Point{T<:Integer, S<:AbstractString}\n",
    "    pos::Complex{T}\n",
    "    label::S\n",
    "end"
   ]
  },
  {
   "cell_type": "markdown",
   "metadata": {},
   "source": [
    "型を定義しただけでは1つしかコンストラクタが出来ないので、2つのカスタムコンストラクタを追加する。  \n",
    "2つの引数x,yをとり、それらを整数型に変換し、変換出来たら共通の方にpromoteする。  \n",
    "次に呼び出すもう一つのコンストラクタの第一引数と第二引数が同じ方でなければならないから。"
   ]
  },
  {
   "cell_type": "code",
   "execution_count": 2,
   "metadata": {},
   "outputs": [
    {
     "data": {
      "text/plain": [
       "Point"
      ]
     },
     "execution_count": 2,
     "metadata": {},
     "output_type": "execute_result"
    }
   ],
   "source": [
    "Point(x::T, y::T, label::S) where {T<:Integer, S<:AbstractString} = Point{T,S}(Complex(x,y), label)"
   ]
  },
  {
   "cell_type": "markdown",
   "metadata": {},
   "source": [
    "インスタンスの作成"
   ]
  },
  {
   "cell_type": "code",
   "execution_count": 3,
   "metadata": {},
   "outputs": [
    {
     "data": {
      "text/plain": [
       "Point{Int64,String}(2 + 0im, \"2\")"
      ]
     },
     "execution_count": 3,
     "metadata": {},
     "output_type": "execute_result"
    }
   ],
   "source": [
    "# SubString: 部分列。Juliaは1文字をchar型と認識するので、String型として認識させている\n",
    "# Substring(string, start, end)\n",
    "p1 = Point(1, 0, \"1\")\n",
    "p2 = Point(1, 0, SubString(\"1\", 1))\n",
    "p3 = Point(true, false, \"1\")\n",
    "p4 = Point(2, 0, \"2\")"
   ]
  },
  {
   "cell_type": "code",
   "execution_count": 4,
   "metadata": {},
   "outputs": [
    {
     "data": {
      "text/plain": [
       "1 + 0im"
      ]
     },
     "execution_count": 4,
     "metadata": {},
     "output_type": "execute_result"
    }
   ],
   "source": [
    "p1.pos"
   ]
  },
  {
   "cell_type": "code",
   "execution_count": 5,
   "metadata": {},
   "outputs": [
    {
     "data": {
      "text/plain": [
       "\"1\""
      ]
     },
     "execution_count": 5,
     "metadata": {},
     "output_type": "execute_result"
    }
   ],
   "source": [
    "p3.label"
   ]
  },
  {
   "cell_type": "markdown",
   "metadata": {},
   "source": [
    "配列の作成"
   ]
  },
  {
   "cell_type": "code",
   "execution_count": 6,
   "metadata": {},
   "outputs": [
    {
     "data": {
      "text/plain": [
       "4-element Array{Point,1}:\n",
       " Point{Int64,String}(1 + 0im, \"1\")\n",
       " Point{Int64,SubString{String}}(1 + 0im, \"1\")\n",
       " Point{Bool,String}(Complex(true,false), \"1\")\n",
       " Point{Int64,String}(2 + 0im, \"2\")"
      ]
     },
     "execution_count": 6,
     "metadata": {},
     "output_type": "execute_result"
    }
   ],
   "source": [
    "[p1, p2, p3, p4]"
   ]
  },
  {
   "cell_type": "code",
   "execution_count": 7,
   "metadata": {},
   "outputs": [
    {
     "data": {
      "text/plain": [
       "2-element Array{Point{Int64,S} where S<:AbstractString,1}:\n",
       " Point{Int64,String}(1 + 0im, \"1\")\n",
       " Point{Int64,SubString{String}}(1 + 0im, \"1\")"
      ]
     },
     "execution_count": 7,
     "metadata": {},
     "output_type": "execute_result"
    }
   ],
   "source": [
    "[p1, p2]"
   ]
  },
  {
   "cell_type": "code",
   "execution_count": 8,
   "metadata": {},
   "outputs": [
    {
     "data": {
      "text/plain": [
       "2-element Array{Point{T,String} where T<:Integer,1}:\n",
       " Point{Int64,String}(1 + 0im, \"1\")\n",
       " Point{Bool,String}(Complex(true,false), \"1\")"
      ]
     },
     "execution_count": 8,
     "metadata": {},
     "output_type": "execute_result"
    }
   ],
   "source": [
    "[p1, p3]"
   ]
  },
  {
   "cell_type": "code",
   "execution_count": 9,
   "metadata": {},
   "outputs": [
    {
     "data": {
      "text/plain": [
       "2-element Array{Point{Int64,String},1}:\n",
       " Point{Int64,String}(1 + 0im, \"1\")\n",
       " Point{Int64,String}(2 + 0im, \"2\")"
      ]
     },
     "execution_count": 9,
     "metadata": {},
     "output_type": "execute_result"
    }
   ],
   "source": [
    "[p1, p4]"
   ]
  },
  {
   "cell_type": "markdown",
   "metadata": {},
   "source": [
    "このPoint型の配列を受け取り、配列中のPointの合計に空文字列のラベルを付けたインスタンスを返すメソッドを作成"
   ]
  },
  {
   "cell_type": "code",
   "execution_count": 10,
   "metadata": {},
   "outputs": [
    {
     "data": {
      "text/plain": [
       "sumpoint1 (generic function with 1 method)"
      ]
     },
     "execution_count": 10,
     "metadata": {},
     "output_type": "execute_result"
    }
   ],
   "source": [
    "sumpoint1(v::AbstractVector{Point}) = Point(sum(p.pos for p in v), \"\")"
   ]
  },
  {
   "cell_type": "code",
   "execution_count": 11,
   "metadata": {},
   "outputs": [
    {
     "data": {
      "text/plain": [
       "Point{Int64,String}(2 + 0im, \"\")"
      ]
     },
     "execution_count": 11,
     "metadata": {},
     "output_type": "execute_result"
    }
   ],
   "source": [
    "# 関数の内容をそのまま書くと通る\n",
    "Point(sum(p1.pos for p in [p1,p2]), \"\")"
   ]
  },
  {
   "cell_type": "code",
   "execution_count": 12,
   "metadata": {},
   "outputs": [
    {
     "ename": "MethodError",
     "evalue": "MethodError: no method matching sumpoint1(::Array{Point{Int64,S} where S<:AbstractString,1})\nClosest candidates are:\n  sumpoint1(!Matched::AbstractArray{Point,1}) at In[10]:1",
     "output_type": "error",
     "traceback": [
      "MethodError: no method matching sumpoint1(::Array{Point{Int64,S} where S<:AbstractString,1})\nClosest candidates are:\n  sumpoint1(!Matched::AbstractArray{Point,1}) at In[10]:1",
      "",
      "Stacktrace:",
      " [1] top-level scope at In[12]:1"
     ]
    }
   ],
   "source": [
    "# 関数を定義して実行するとエラーが出る, Point型そのものではないため\n",
    "sumpoint1([p1,p2])"
   ]
  },
  {
   "cell_type": "code",
   "execution_count": 13,
   "metadata": {},
   "outputs": [
    {
     "data": {
      "text/plain": [
       "sumpoint2 (generic function with 1 method)"
      ]
     },
     "execution_count": 13,
     "metadata": {},
     "output_type": "execute_result"
    }
   ],
   "source": [
    "sumpoint2(v::AbstractVector{<:Point}) = Point(sum(p.pos for p in v), \"\")"
   ]
  },
  {
   "cell_type": "code",
   "execution_count": 14,
   "metadata": {},
   "outputs": [
    {
     "data": {
      "text/plain": [
       "Point{Int64,String}(2 + 0im, \"\")"
      ]
     },
     "execution_count": 14,
     "metadata": {},
     "output_type": "execute_result"
    }
   ],
   "source": [
    "sumpoint2([p1,p2])"
   ]
  },
  {
   "cell_type": "markdown",
   "metadata": {},
   "source": [
    "別の関数を定義する"
   ]
  },
  {
   "cell_type": "code",
   "execution_count": 15,
   "metadata": {},
   "outputs": [
    {
     "data": {
      "text/plain": [
       "foo (generic function with 3 methods)"
      ]
     },
     "execution_count": 15,
     "metadata": {},
     "output_type": "execute_result"
    }
   ],
   "source": [
    "# 入力する型を変えて同じ関数名を定義すると、関数の挙動を追加出来る\n",
    "foo(p::Point) = \"一般的な定義\"\n",
    "foo(p::Point{Int, <:AbstractString}) = \"Intが渡された際のデフォルト\"\n",
    "foo(p::Point{<:Integer, String}) = \"Stringが渡された際のデフォルト\""
   ]
  },
  {
   "cell_type": "markdown",
   "metadata": {},
   "source": [
    "色々なインスタンスで試す"
   ]
  },
  {
   "cell_type": "code",
   "execution_count": 16,
   "metadata": {},
   "outputs": [
    {
     "data": {
      "text/plain": [
       "\"一般的な定義\""
      ]
     },
     "execution_count": 16,
     "metadata": {},
     "output_type": "execute_result"
    }
   ],
   "source": [
    "foo(Point(true, true, s\"12\"))"
   ]
  },
  {
   "cell_type": "code",
   "execution_count": 17,
   "metadata": {},
   "outputs": [
    {
     "data": {
      "text/plain": [
       "\"Intが渡された際のデフォルト\""
      ]
     },
     "execution_count": 17,
     "metadata": {},
     "output_type": "execute_result"
    }
   ],
   "source": [
    "# s\"hogehoge\"は、正規表現で置換する対象の文字列を作成する. Pythonでいうところのr\"hogehoge\"\n",
    "foo(Point(1, 1, s\"12\"))"
   ]
  },
  {
   "cell_type": "code",
   "execution_count": 18,
   "metadata": {},
   "outputs": [
    {
     "data": {
      "text/plain": [
       "\"Stringが渡された際のデフォルト\""
      ]
     },
     "execution_count": 18,
     "metadata": {},
     "output_type": "execute_result"
    }
   ],
   "source": [
    "foo(Point(true, true, \"12\"))"
   ]
  },
  {
   "cell_type": "code",
   "execution_count": 19,
   "metadata": {},
   "outputs": [
    {
     "ename": "MethodError",
     "evalue": "MethodError: foo(::Point{Int64,String}) is ambiguous. Candidates:\n  foo(p::Point{Int64,#s1} where #s1<:AbstractString) in Main at In[15]:3\n  foo(p::Point{#s1,String} where #s1<:Integer) in Main at In[15]:4\nPossible fix, define\n  foo(::Point{Int64,String})",
     "output_type": "error",
     "traceback": [
      "MethodError: foo(::Point{Int64,String}) is ambiguous. Candidates:\n  foo(p::Point{Int64,#s1} where #s1<:AbstractString) in Main at In[15]:3\n  foo(p::Point{#s1,String} where #s1<:Integer) in Main at In[15]:4\nPossible fix, define\n  foo(::Point{Int64,String})",
      "",
      "Stacktrace:",
      " [1] top-level scope at In[19]:1"
     ]
    }
   ],
   "source": [
    "foo(Point(1, 1, \"12\"))"
   ]
  },
  {
   "cell_type": "markdown",
   "metadata": {},
   "source": [
    "型の組み合わせに対してそれぞれ別にメソッドを定義する必要があることがわかる。"
   ]
  },
  {
   "cell_type": "code",
   "execution_count": 20,
   "metadata": {},
   "outputs": [
    {
     "data": {
      "text/plain": [
       "foo (generic function with 4 methods)"
      ]
     },
     "execution_count": 20,
     "metadata": {},
     "output_type": "execute_result"
    }
   ],
   "source": [
    "foo(p::Point{Int, String}) = \"厳密に型を指定したメソッド\""
   ]
  },
  {
   "cell_type": "code",
   "execution_count": 21,
   "metadata": {},
   "outputs": [
    {
     "data": {
      "text/plain": [
       "\"厳密に型を指定したメソッド\""
      ]
     },
     "execution_count": 21,
     "metadata": {},
     "output_type": "execute_result"
    }
   ],
   "source": [
    "foo(Point(1, 1, \"12\"))"
   ]
  },
  {
   "cell_type": "markdown",
   "metadata": {},
   "source": [
    "通状のコンストラクタは、渡されたデータを保持出来る範囲で最も狭いデータ型を見つけようとする。  \n",
    "コレクションに異なるデータ型が回ることがありうるなら、コレクションを作る時点で適切な型を指定しておく必要がある。"
   ]
  },
  {
   "cell_type": "code",
   "execution_count": 22,
   "metadata": {},
   "outputs": [
    {
     "ename": "MethodError",
     "evalue": "MethodError: Cannot `convert` an object of type \n  Point{Int64{},SubString{String}} to an object of type \n  Point{Int64{},String}\nClosest candidates are:\n  convert(::Type{T}, !Matched::T) where T at essentials.jl:171\n  Point{Int64,String}(::Any, !Matched::Any) where {T<:Integer, S<:AbstractString} at In[1]:3",
     "output_type": "error",
     "traceback": [
      "MethodError: Cannot `convert` an object of type \n  Point{Int64{},SubString{String}} to an object of type \n  Point{Int64{},String}\nClosest candidates are:\n  convert(::Type{T}, !Matched::T) where T at essentials.jl:171\n  Point{Int64,String}(::Any, !Matched::Any) where {T<:Integer, S<:AbstractString} at In[1]:3",
      "",
      "Stacktrace:",
      " [1] push!(::Array{Point{Int64,String},1}, ::Point{Int64,SubString{String}}) at ./array.jl:913",
      " [2] top-level scope at In[22]:1"
     ]
    }
   ],
   "source": [
    "# push!とは: https://goropikari.hatenablog.com/entry/julia_array_implement\n",
    "# pushとは、配列に要素を追加する関数\n",
    "# この場合、p1の型、Point{Int64,String}に対してp2の型Point{Int64,SubString{String}}を混在させてしまう\n",
    "push!([p1], p2)"
   ]
  },
  {
   "cell_type": "code",
   "execution_count": 23,
   "metadata": {},
   "outputs": [
    {
     "data": {
      "text/plain": [
       "1-element Array{Point{Int64,String},1}:\n",
       " Point{Int64,String}(1 + 0im, \"1\")"
      ]
     },
     "execution_count": 23,
     "metadata": {},
     "output_type": "execute_result"
    }
   ],
   "source": [
    "# このArrayの型はArray{Point{Int64,String},1}, こちらの方が型が厳密になっている\n",
    "[p1]"
   ]
  },
  {
   "cell_type": "code",
   "execution_count": 24,
   "metadata": {},
   "outputs": [
    {
     "data": {
      "text/plain": [
       "1-element Array{Point,1}:\n",
       " Point{Int64,String}(1 + 0im, \"1\")"
      ]
     },
     "execution_count": 24,
     "metadata": {},
     "output_type": "execute_result"
    }
   ],
   "source": [
    "# このArrayの型はArray{Point,1}\n",
    "Point[p1]"
   ]
  },
  {
   "cell_type": "code",
   "execution_count": 25,
   "metadata": {},
   "outputs": [
    {
     "data": {
      "text/plain": [
       "2-element Array{Point,1}:\n",
       " Point{Int64,String}(1 + 0im, \"1\")\n",
       " Point{Int64,SubString{String}}(1 + 0im, \"1\")"
      ]
     },
     "execution_count": 25,
     "metadata": {},
     "output_type": "execute_result"
    }
   ],
   "source": [
    "push!(Point[p1], p2)"
   ]
  },
  {
   "cell_type": "markdown",
   "metadata": {},
   "source": [
    "Juliaではほとんどのパラメータ型が非変。  \n",
    "型パラメータをサブタイプにしても、その型パラメータでパラメータ化された型の方はサブタイプにならない。"
   ]
  },
  {
   "cell_type": "code",
   "execution_count": 26,
   "metadata": {},
   "outputs": [
    {
     "data": {
      "text/plain": [
       "true"
      ]
     },
     "execution_count": 26,
     "metadata": {},
     "output_type": "execute_result"
    }
   ],
   "source": [
    "# Int型はInteger型に内包される\n",
    "Int <: Integer"
   ]
  },
  {
   "cell_type": "code",
   "execution_count": 27,
   "metadata": {},
   "outputs": [
    {
     "data": {
      "text/plain": [
       "false"
      ]
     },
     "execution_count": 27,
     "metadata": {},
     "output_type": "execute_result"
    }
   ],
   "source": [
    "# これは無理\n",
    "Point{Int, String} <: Point{Integer, String}"
   ]
  },
  {
   "cell_type": "code",
   "execution_count": 28,
   "metadata": {},
   "outputs": [
    {
     "data": {
      "text/plain": [
       "true"
      ]
     },
     "execution_count": 28,
     "metadata": {},
     "output_type": "execute_result"
    }
   ],
   "source": [
    "# <: 演算子を使って、型のサブタイプを許容する\n",
    "Point{Int, String} <: Point{<:Integer, String}"
   ]
  },
  {
   "cell_type": "code",
   "execution_count": 29,
   "metadata": {},
   "outputs": [
    {
     "data": {
      "text/plain": [
       "true"
      ]
     },
     "execution_count": 29,
     "metadata": {},
     "output_type": "execute_result"
    }
   ],
   "source": [
    "# whereを使った等価な書き方\n",
    "Point{Int, String} <: Point{T, String} where T<: Integer"
   ]
  },
  {
   "cell_type": "markdown",
   "metadata": {},
   "source": [
    "2つ以上の型パラメータでパラメータ化された型は、型パラメータ毎にサブタイプに制約できる。"
   ]
  },
  {
   "cell_type": "code",
   "execution_count": 30,
   "metadata": {},
   "outputs": [
    {
     "data": {
      "text/plain": [
       "Point{Int64,S} where S<:AbstractString"
      ]
     },
     "execution_count": 30,
     "metadata": {},
     "output_type": "execute_result"
    }
   ],
   "source": [
    "# 最初の引数をIntegerからIntに制約\n",
    "Point{Int}"
   ]
  },
  {
   "cell_type": "code",
   "execution_count": 31,
   "metadata": {},
   "outputs": [
    {
     "data": {
      "text/plain": [
       "Point{#s1,String} where #s1<:Signed"
      ]
     },
     "execution_count": 31,
     "metadata": {},
     "output_type": "execute_result"
    }
   ],
   "source": [
    "# Signed: 符号付き整数\n",
    "# https://docs.julialang.org/en/v1/base/numbers/#Core.Signed\n",
    "Point{<:Signed, String}"
   ]
  },
  {
   "cell_type": "code",
   "execution_count": 32,
   "metadata": {},
   "outputs": [
    {
     "data": {
      "text/plain": [
       "Point{Int64,String}"
      ]
     },
     "execution_count": 32,
     "metadata": {},
     "output_type": "execute_result"
    }
   ],
   "source": [
    "Point{Int}{String}"
   ]
  },
  {
   "cell_type": "code",
   "execution_count": 33,
   "metadata": {},
   "outputs": [
    {
     "data": {
      "text/plain": [
       "Point{Int64,String}"
      ]
     },
     "execution_count": 33,
     "metadata": {},
     "output_type": "execute_result"
    }
   ],
   "source": [
    "Point{Int, String}"
   ]
  },
  {
   "cell_type": "code",
   "execution_count": 34,
   "metadata": {},
   "outputs": [
    {
     "ename": "MethodError",
     "evalue": "MethodError: no method matching sumpoint1(::Array{Point{Int64,S} where S<:AbstractString,1})\nClosest candidates are:\n  sumpoint1(!Matched::AbstractArray{Point,1}) at In[10]:1",
     "output_type": "error",
     "traceback": [
      "MethodError: no method matching sumpoint1(::Array{Point{Int64,S} where S<:AbstractString,1})\nClosest candidates are:\n  sumpoint1(!Matched::AbstractArray{Point,1}) at In[10]:1",
      "",
      "Stacktrace:",
      " [1] top-level scope at In[34]:1"
     ]
    }
   ],
   "source": [
    "# 再掲、これはエラーになる. p1によって型がPoint{Int64,String}に制約されてしまうため.\n",
    "sumpoint1([p1,p2])"
   ]
  },
  {
   "cell_type": "code",
   "execution_count": 35,
   "metadata": {},
   "outputs": [
    {
     "data": {
      "text/plain": [
       "Point{Int64,String}(2 + 0im, \"\")"
      ]
     },
     "execution_count": 35,
     "metadata": {},
     "output_type": "execute_result"
    }
   ],
   "source": [
    "# 先に、型を2-element Array{Point,1} とすればOK\n",
    "# p1とp2を保持する配列の型を明示的に指定している\n",
    "sumpoint1(Point[p1,p2])"
   ]
  },
  {
   "cell_type": "markdown",
   "metadata": {},
   "source": [
    "関数に指定されているメソッドをチェックするにはmethods関数を用いる"
   ]
  },
  {
   "cell_type": "code",
   "execution_count": 36,
   "metadata": {},
   "outputs": [
    {
     "data": {
      "text/html": [
       "# 4 methods for generic function <b>foo</b>:<ul><li> foo(p::<b>Point{Int64,String}</b>) in Main at In[20]:1</li> <li> foo(p::<b>Point{Int64,#s1} where #s1<:AbstractString</b>) in Main at In[15]:3</li> <li> foo(p::<b>Point{#s1,String} where #s1<:Integer</b>) in Main at In[15]:4</li> <li> foo(p::<b>Point</b>) in Main at In[15]:2</li> </ul>"
      ],
      "text/plain": [
       "# 4 methods for generic function \"foo\":\n",
       "[1] foo(p::Point{Int64,String}) in Main at In[20]:1\n",
       "[2] foo(p::Point{Int64,#s1} where #s1<:AbstractString) in Main at In[15]:3\n",
       "[3] foo(p::Point{#s1,String} where #s1<:Integer) in Main at In[15]:4\n",
       "[4] foo(p::Point) in Main at In[15]:2"
      ]
     },
     "execution_count": 36,
     "metadata": {},
     "output_type": "execute_result"
    }
   ],
   "source": [
    "methods(foo)"
   ]
  },
  {
   "cell_type": "markdown",
   "metadata": {},
   "source": [
    "Juliaの型は不変だが、タプルは共変"
   ]
  },
  {
   "cell_type": "code",
   "execution_count": 37,
   "metadata": {},
   "outputs": [
    {
     "data": {
      "text/plain": [
       "true"
      ]
     },
     "execution_count": 37,
     "metadata": {},
     "output_type": "execute_result"
    }
   ],
   "source": [
    "Tuple{Point{Int, String}, Point{Bool, SubString{String}}} <: Tuple{Point{Int}, Point}"
   ]
  },
  {
   "cell_type": "code",
   "execution_count": 38,
   "metadata": {},
   "outputs": [
    {
     "data": {
      "text/plain": [
       "sumpoint_tuple (generic function with 1 method)"
      ]
     },
     "execution_count": 38,
     "metadata": {},
     "output_type": "execute_result"
    }
   ],
   "source": [
    "# Vararg: 任意の数の末尾の要素を表す特殊な型\n",
    "# Vararg{T,N}型は，T型の正確にN個の要素に対応します．Vararg{T}型は、T型の0個以上の要素に対応します。\n",
    "sumpoint_tuple(v::Tuple{Vararg{Point}}) = Point(sum(p.pos for p in v), \"\")"
   ]
  },
  {
   "cell_type": "code",
   "execution_count": 39,
   "metadata": {},
   "outputs": [
    {
     "data": {
      "text/plain": [
       "(Point{Int64,String}(1 + 0im, \"1\"), Point{Int64,SubString{String}}(1 + 0im, \"1\"), Point{Bool,String}(Complex(true,false), \"1\"))"
      ]
     },
     "execution_count": 39,
     "metadata": {},
     "output_type": "execute_result"
    }
   ],
   "source": [
    "(p1,p2,p3)"
   ]
  },
  {
   "cell_type": "code",
   "execution_count": 40,
   "metadata": {},
   "outputs": [
    {
     "data": {
      "text/plain": [
       "Point{Int64,String}(3 + 0im, \"\")"
      ]
     },
     "execution_count": 40,
     "metadata": {},
     "output_type": "execute_result"
    }
   ],
   "source": [
    "sumpoint_tuple((p1,p2,p3))"
   ]
  },
  {
   "cell_type": "markdown",
   "metadata": {},
   "source": [
    "# レシピ5.2 多重ディスパッチで動作を切り替える"
   ]
  },
  {
   "cell_type": "markdown",
   "metadata": {},
   "source": [
    "多重ディスパッチ: 関数に入力された引数に応じて、対応するメソッドを切り替えること"
   ]
  },
  {
   "cell_type": "markdown",
   "metadata": {},
   "source": [
    "いくつかの異なるコンテント型を持つDataFrameを効率的に扱う方法を紹介する"
   ]
  },
  {
   "cell_type": "code",
   "execution_count": 41,
   "metadata": {},
   "outputs": [],
   "source": [
    "using DataFrames"
   ]
  },
  {
   "cell_type": "code",
   "execution_count": 42,
   "metadata": {},
   "outputs": [
    {
     "data": {
      "text/html": [
       "<table class=\"data-frame\"><thead><tr><th></th><th>s</th><th>n</th><th>f</th></tr><tr><th></th><th>Cat…</th><th>Float64</th><th>Function?</th></tr></thead><tbody><p>3 rows × 3 columns</p><tr><th>1</th><td>a</td><td>1.0</td><td>sin (generic function with 12 methods)</td></tr><tr><th>2</th><td>b</td><td>2.0</td><td>cos (generic function with 12 methods)</td></tr><tr><th>3</th><td>c</td><td>3.0</td><td><em>missing</em></td></tr></tbody></table>"
      ],
      "text/latex": [
       "\\begin{tabular}{r|ccc}\n",
       "\t& s & n & f\\\\\n",
       "\t\\hline\n",
       "\t& Cat… & Float64 & Function?\\\\\n",
       "\t\\hline\n",
       "\t1 & a & 1.0 & sin (generic function with 12 methods) \\\\\n",
       "\t2 & b & 2.0 & cos (generic function with 12 methods) \\\\\n",
       "\t3 & c & 3.0 & \\emph{missing} \\\\\n",
       "\\end{tabular}\n"
      ],
      "text/plain": [
       "3×3 DataFrame\n",
       "│ Row │ s    │ n       │ f                                      │\n",
       "│     │ \u001b[90mCat…\u001b[39m │ \u001b[90mFloat64\u001b[39m │ \u001b[90mUnion{Missing, Function}\u001b[39m               │\n",
       "├─────┼──────┼─────────┼────────────────────────────────────────┤\n",
       "│ 1   │ a    │ 1.0     │ sin (generic function with 12 methods) │\n",
       "│ 2   │ b    │ 2.0     │ cos (generic function with 12 methods) │\n",
       "│ 3   │ c    │ 3.0     │ \u001b[90mmissing\u001b[39m                                │"
      ]
     },
     "execution_count": 42,
     "metadata": {},
     "output_type": "execute_result"
    }
   ],
   "source": [
    "df = DataFrame(\n",
    "    s = categorical([\"a\", \"b\", \"c\"]),\n",
    "    n = 1.0:3.0,\n",
    "    f = [sin, cos, missing]\n",
    ")"
   ]
  },
  {
   "cell_type": "code",
   "execution_count": 43,
   "metadata": {},
   "outputs": [
    {
     "data": {
      "text/plain": [
       "simpledescribe (generic function with 3 methods)"
      ]
     },
     "execution_count": 43,
     "metadata": {},
     "output_type": "execute_result"
    }
   ],
   "source": [
    "simpledescribe(v) = \"unknown type\"\n",
    "simpledescribe(v::Vector{<:Number}) = \"numeric\"\n",
    "simpledescribe(v::CategoricalArray) = \"categorical\""
   ]
  },
  {
   "cell_type": "markdown",
   "metadata": {},
   "source": [
    "データフレームを読み取って表示する関数を定義する"
   ]
  },
  {
   "cell_type": "code",
   "execution_count": 44,
   "metadata": {},
   "outputs": [
    {
     "data": {
      "text/plain": [
       "simpledisplay (generic function with 1 method)"
      ]
     },
     "execution_count": 44,
     "metadata": {},
     "output_type": "execute_result"
    }
   ],
   "source": [
    "simpledisplay(df) =\n",
    "    foreach(x -> println(x[1], \": \", simpledescribe(x[2])),\n",
    "    collect(pairs(eachcol(df)))\n",
    ")"
   ]
  },
  {
   "cell_type": "code",
   "execution_count": 45,
   "metadata": {},
   "outputs": [
    {
     "name": "stdout",
     "output_type": "stream",
     "text": [
      "s: categorical\n",
      "n: numeric\n",
      "f: unknown type\n"
     ]
    }
   ],
   "source": [
    "simpledisplay(df)"
   ]
  },
  {
   "cell_type": "markdown",
   "metadata": {},
   "source": [
    "関数: 引数の組を返り値にマップするオブジェクト  \n",
    "引数として渡された値の型に応じて複数の挙動を定義することが出来る  \n",
    "関数に対して定義された、それぞれの挙動をメソッドと呼ぶ  "
   ]
  },
  {
   "cell_type": "code",
   "execution_count": 46,
   "metadata": {},
   "outputs": [
    {
     "data": {
      "text/html": [
       "# 3 methods for generic function <b>simpledescribe</b>:<ul><li> simpledescribe(v::<b>Array{#s3,1} where #s3<:Number</b>) in Main at In[43]:2</li> <li> simpledescribe(v::<b>CategoricalArray</b>) in Main at In[43]:3</li> <li> simpledescribe(v) in Main at In[43]:1</li> </ul>"
      ],
      "text/plain": [
       "# 3 methods for generic function \"simpledescribe\":\n",
       "[1] simpledescribe(v::Array{#s3,1} where #s3<:Number) in Main at In[43]:2\n",
       "[2] simpledescribe(v::CategoricalArray) in Main at In[43]:3\n",
       "[3] simpledescribe(v) in Main at In[43]:1"
      ]
     },
     "execution_count": 46,
     "metadata": {},
     "output_type": "execute_result"
    }
   ],
   "source": [
    "methods(simpledescribe)"
   ]
  },
  {
   "cell_type": "code",
   "execution_count": 47,
   "metadata": {},
   "outputs": [],
   "source": [
    "# ;をつけると改行される. dfを出力しなくなる\n",
    "df = DataFrame(x=1:10^6);"
   ]
  },
  {
   "cell_type": "code",
   "execution_count": 48,
   "metadata": {},
   "outputs": [
    {
     "data": {
      "text/plain": [
       "helper (generic function with 1 method)"
      ]
     },
     "execution_count": 48,
     "metadata": {},
     "output_type": "execute_result"
    }
   ],
   "source": [
    "# eltype\n",
    "# 与えられた型のコレクションを反復処理することで生成される要素の型を決定します。\n",
    "# 辞書型の場合、これはPair{KeyType,ValType}になります。\n",
    "# eltype(x) = eltype(typeof(x))という定義は、型の代わりにインスタンスを渡すことができるように便宜的に提供されています。\n",
    "# ただし、新しい型の場合は型の引数を受け付ける形式を定義する必要があります。\n",
    "function helper(x)\n",
    "    s = zero(eltype(x))\n",
    "    for v in x\n",
    "        s += v\n",
    "    end\n",
    "    s\n",
    "end"
   ]
  },
  {
   "cell_type": "code",
   "execution_count": 49,
   "metadata": {},
   "outputs": [
    {
     "data": {
      "text/plain": [
       "fun1 (generic function with 1 method)"
      ]
     },
     "execution_count": 49,
     "metadata": {},
     "output_type": "execute_result"
    }
   ],
   "source": [
    "# 入力されるdfの型は特に指定されていない\n",
    "# df.col は df[!, col] のように動作します。\n",
    "function fun1(df)\n",
    "    s = zero(eltype(df[!,1]))\n",
    "    for v in df[!,1]\n",
    "        s += v\n",
    "    end\n",
    "    s\n",
    "end"
   ]
  },
  {
   "cell_type": "code",
   "execution_count": 50,
   "metadata": {},
   "outputs": [
    {
     "data": {
      "text/plain": [
       "fun2 (generic function with 1 method)"
      ]
     },
     "execution_count": 50,
     "metadata": {},
     "output_type": "execute_result"
    }
   ],
   "source": [
    "# 予めdfの型を指定しておく\n",
    "fun2(df) = helper(df[!,1])"
   ]
  },
  {
   "cell_type": "code",
   "execution_count": 51,
   "metadata": {},
   "outputs": [],
   "source": [
    "using BenchmarkTools"
   ]
  },
  {
   "cell_type": "code",
   "execution_count": 52,
   "metadata": {},
   "outputs": [
    {
     "name": "stdout",
     "output_type": "stream",
     "text": [
      "  71.382 ms (3998948 allocations: 76.28 MiB)\n"
     ]
    },
    {
     "data": {
      "text/plain": [
       "500000500000"
      ]
     },
     "execution_count": 52,
     "metadata": {},
     "output_type": "execute_result"
    }
   ],
   "source": [
    "@btime fun1(df)"
   ]
  },
  {
   "cell_type": "code",
   "execution_count": 53,
   "metadata": {},
   "outputs": [
    {
     "name": "stdout",
     "output_type": "stream",
     "text": [
      "  270.913 μs (1 allocation: 16 bytes)\n"
     ]
    },
    {
     "data": {
      "text/plain": [
       "500000500000"
      ]
     },
     "execution_count": 53,
     "metadata": {},
     "output_type": "execute_result"
    }
   ],
   "source": [
    "@btime fun2(df)"
   ]
  },
  {
   "cell_type": "markdown",
   "metadata": {},
   "source": [
    "fun2は予めxの型がわかっている状態でコンパイルされるヘルパ関数で実際の仕事をしているため、  \n",
    "Juliaがその方に対して効率的に動作するコードを生成できている"
   ]
  },
  {
   "cell_type": "code",
   "execution_count": null,
   "metadata": {},
   "outputs": [],
   "source": []
  }
 ],
 "metadata": {
  "kernelspec": {
   "display_name": "Julia 1.4.2",
   "language": "julia",
   "name": "julia-1.4"
  },
  "language_info": {
   "file_extension": ".jl",
   "mimetype": "application/julia",
   "name": "julia",
   "version": "1.4.2"
  }
 },
 "nbformat": 4,
 "nbformat_minor": 4
}
